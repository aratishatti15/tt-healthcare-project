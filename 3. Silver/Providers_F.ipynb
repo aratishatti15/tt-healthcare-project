{
 "cells": [
  {
   "cell_type": "code",
   "execution_count": 0,
   "metadata": {
    "application/vnd.databricks.v1+cell": {
     "cellMetadata": {
      "byteLimit": 2048000,
      "rowLimit": 10000
     },
     "inputWidgets": {},
     "nuid": "63c1ed84-fa28-44ea-bbe1-8ddad47c8bd0",
     "showTitle": false,
     "tableResultSettingsMap": {},
     "title": ""
    }
   },
   "outputs": [],
   "source": [
    "from pyspark.sql import SparkSession, functions as f\n",
    "\n",
    "#Reading Hospital A departments data \n",
    "df_hosa=spark.read.parquet(\"/mnt/bronze/hosa/providers\")\n",
    "\n",
    "#Reading Hospital B departments data \n",
    "df_hosb=spark.read.parquet(\"/mnt/bronze/hosb/providers\")\n",
    "\n",
    "#union two departments dataframes\n",
    "df_merged = df_hosa.unionByName(df_hosb)\n",
    "display(df_merged)\n",
    "\n",
    "df_merged.createOrReplaceTempView(\"providers\")\n"
   ]
  },
  {
   "cell_type": "code",
   "execution_count": 0,
   "metadata": {
    "application/vnd.databricks.v1+cell": {
     "cellMetadata": {
      "byteLimit": 2048000,
      "implicitDf": true,
      "rowLimit": 10000
     },
     "inputWidgets": {},
     "nuid": "0ba0686c-f054-410c-bdff-abf919592e8c",
     "showTitle": false,
     "tableResultSettingsMap": {},
     "title": ""
    }
   },
   "outputs": [],
   "source": [
    "%sql\n",
    "CREATE TABLE IF NOT EXISTS silver.providers (\n",
    "ProviderID string,\n",
    "FirstName string,\n",
    "LastName string,\n",
    "Specialization string,\n",
    "DeptID string,\n",
    "NPI long,\n",
    "datasource string,\n",
    "is_quarantined boolean\n",
    ")\n",
    "USING DELTA;"
   ]
  },
  {
   "cell_type": "code",
   "execution_count": 0,
   "metadata": {
    "application/vnd.databricks.v1+cell": {
     "cellMetadata": {
      "byteLimit": 2048000,
      "implicitDf": true,
      "rowLimit": 10000
     },
     "inputWidgets": {},
     "nuid": "26231b6b-4394-408e-b90f-a6a66dbe606f",
     "showTitle": false,
     "tableResultSettingsMap": {},
     "title": ""
    }
   },
   "outputs": [],
   "source": [
    "%sql\n",
    "truncate table silver.providers"
   ]
  },
  {
   "cell_type": "code",
   "execution_count": 0,
   "metadata": {
    "application/vnd.databricks.v1+cell": {
     "cellMetadata": {
      "byteLimit": 2048000,
      "implicitDf": true,
      "rowLimit": 10000
     },
     "inputWidgets": {},
     "nuid": "68e55d54-8c09-4abe-a869-2cca74ef0726",
     "showTitle": false,
     "tableResultSettingsMap": {},
     "title": ""
    }
   },
   "outputs": [],
   "source": [
    "%sql \n",
    "insert into silver.providers\n",
    "select \n",
    "distinct\n",
    "ProviderID,\n",
    "FirstName,\n",
    "LastName,\n",
    "Specialization,\n",
    "DeptID,\n",
    "cast(NPI as INT) NPI,\n",
    "datasource,\n",
    "    CASE \n",
    "        WHEN ProviderID IS NULL OR DeptID IS NULL THEN TRUE\n",
    "        ELSE FALSE\n",
    "    END AS is_quarantined\n",
    "from providers"
   ]
  }
 ],
 "metadata": {
  "application/vnd.databricks.v1+notebook": {
   "computePreferences": null,
   "dashboards": [],
   "environmentMetadata": {
    "base_environment": "",
    "client": "1"
   },
   "language": "python",
   "notebookMetadata": {
    "mostRecentlyExecutedCommandWithImplicitDF": {
     "commandId": 2211225923543862,
     "dataframes": [
      "_sqldf"
     ]
    },
    "pythonIndentUnit": 2
   },
   "notebookName": "Providers_F",
   "widgets": {}
  },
  "language_info": {
   "name": "python"
  }
 },
 "nbformat": 4,
 "nbformat_minor": 0
}
